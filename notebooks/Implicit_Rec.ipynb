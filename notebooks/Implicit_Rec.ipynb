{
 "cells": [
  {
   "cell_type": "markdown",
   "id": "4f244ded",
   "metadata": {},
   "source": [
    "# Implicit Recommendation System"
   ]
  },
  {
   "cell_type": "code",
   "execution_count": 1,
   "id": "370dd11e",
   "metadata": {},
   "outputs": [],
   "source": [
    "import pandas as pd\n",
    "import numpy as np"
   ]
  },
  {
   "cell_type": "markdown",
   "id": "799a9d27",
   "metadata": {},
   "source": [
    "## Data Preparation\n"
   ]
  },
  {
   "cell_type": "code",
   "execution_count": 2,
   "id": "4fa9d17e",
   "metadata": {},
   "outputs": [],
   "source": [
    "df = pd.read_csv('../data/spotify_dataset.csv', on_bad_lines='skip')"
   ]
  },
  {
   "cell_type": "code",
   "execution_count": 3,
   "id": "4812f957",
   "metadata": {},
   "outputs": [],
   "source": [
    "# Fixed Column Headers (removed quotes, whitespace, and simplified the column names)\n",
    "df.columns = df.columns.str.replace(\"\\\"\", \"\").str.strip().str.replace(\"name\",\"\")"
   ]
  },
  {
   "cell_type": "code",
   "execution_count": 4,
   "id": "050ad7ff",
   "metadata": {},
   "outputs": [],
   "source": [
    "df = df.dropna() # Removes rows with NULL values"
   ]
  },
  {
   "cell_type": "code",
   "execution_count": 5,
   "id": "893b326f",
   "metadata": {},
   "outputs": [],
   "source": [
    "# Column that combines song and artist\n",
    "df['track_artist'] = df['track'] + ', ' + df['artist']"
   ]
  },
  {
   "cell_type": "code",
   "execution_count": 6,
   "id": "491b1984",
   "metadata": {},
   "outputs": [
    {
     "data": {
      "text/html": [
       "<div>\n",
       "<style scoped>\n",
       "    .dataframe tbody tr th:only-of-type {\n",
       "        vertical-align: middle;\n",
       "    }\n",
       "\n",
       "    .dataframe tbody tr th {\n",
       "        vertical-align: top;\n",
       "    }\n",
       "\n",
       "    .dataframe thead th {\n",
       "        text-align: right;\n",
       "    }\n",
       "</style>\n",
       "<table border=\"1\" class=\"dataframe\">\n",
       "  <thead>\n",
       "    <tr style=\"text-align: right;\">\n",
       "      <th></th>\n",
       "      <th>user_id</th>\n",
       "      <th>artist</th>\n",
       "      <th>track</th>\n",
       "      <th>playlist</th>\n",
       "      <th>track_artist</th>\n",
       "    </tr>\n",
       "  </thead>\n",
       "  <tbody>\n",
       "    <tr>\n",
       "      <th>6828458</th>\n",
       "      <td>f9869342a148bb4b0891fb1d566b03a2</td>\n",
       "      <td>Marc Anthony</td>\n",
       "      <td>Valió la Pena - Salsa Version</td>\n",
       "      <td>---</td>\n",
       "      <td>Valió la Pena - Salsa Version, Marc Anthony</td>\n",
       "    </tr>\n",
       "    <tr>\n",
       "      <th>3052321</th>\n",
       "      <td>e7aab397ded76255fb6521a6510d2764</td>\n",
       "      <td>Nine Inch Nails</td>\n",
       "      <td>Capital G (Epworth Phones)</td>\n",
       "      <td>Doom and Gloom</td>\n",
       "      <td>Capital G (Epworth Phones), Nine Inch Nails</td>\n",
       "    </tr>\n",
       "    <tr>\n",
       "      <th>12735265</th>\n",
       "      <td>4c0d27172ccd32d6bd40cfee91f08820</td>\n",
       "      <td>Barry Louis Polisar</td>\n",
       "      <td>All I Want Is You</td>\n",
       "      <td>All this useless beauty</td>\n",
       "      <td>All I Want Is You, Barry Louis Polisar</td>\n",
       "    </tr>\n",
       "    <tr>\n",
       "      <th>2881399</th>\n",
       "      <td>c6c03bcc9b6ccc9efee84d4c944ae646</td>\n",
       "      <td>Selena Gomez</td>\n",
       "      <td>Come &amp; Get It</td>\n",
       "      <td>Playlist</td>\n",
       "      <td>Come &amp; Get It, Selena Gomez</td>\n",
       "    </tr>\n",
       "    <tr>\n",
       "      <th>11109888</th>\n",
       "      <td>cc83579aa6ecfa7d34e0cdd8a63cdddb</td>\n",
       "      <td>Moby</td>\n",
       "      <td>In My Heart</td>\n",
       "      <td>…zzzZ</td>\n",
       "      <td>In My Heart, Moby</td>\n",
       "    </tr>\n",
       "  </tbody>\n",
       "</table>\n",
       "</div>"
      ],
      "text/plain": [
       "                                   user_id               artist  \\\n",
       "6828458   f9869342a148bb4b0891fb1d566b03a2         Marc Anthony   \n",
       "3052321   e7aab397ded76255fb6521a6510d2764      Nine Inch Nails   \n",
       "12735265  4c0d27172ccd32d6bd40cfee91f08820  Barry Louis Polisar   \n",
       "2881399   c6c03bcc9b6ccc9efee84d4c944ae646         Selena Gomez   \n",
       "11109888  cc83579aa6ecfa7d34e0cdd8a63cdddb                 Moby   \n",
       "\n",
       "                                  track                 playlist  \\\n",
       "6828458   Valió la Pena - Salsa Version                      ---   \n",
       "3052321      Capital G (Epworth Phones)           Doom and Gloom   \n",
       "12735265              All I Want Is You  All this useless beauty   \n",
       "2881399                   Come & Get It                 Playlist   \n",
       "11109888                    In My Heart                    …zzzZ   \n",
       "\n",
       "                                         track_artist  \n",
       "6828458   Valió la Pena - Salsa Version, Marc Anthony  \n",
       "3052321   Capital G (Epworth Phones), Nine Inch Nails  \n",
       "12735265       All I Want Is You, Barry Louis Polisar  \n",
       "2881399                   Come & Get It, Selena Gomez  \n",
       "11109888                            In My Heart, Moby  "
      ]
     },
     "execution_count": 6,
     "metadata": {},
     "output_type": "execute_result"
    }
   ],
   "source": [
    "df.sample(5)"
   ]
  },
  {
   "cell_type": "markdown",
   "id": "d3c84e04",
   "metadata": {},
   "source": [
    "## Model\n",
    "\n",
    "1. Make a sparse matrix\n",
    "2. Initialize a model from Implicit library\n",
    "3. Recommend Items for a User\n",
    "4. Find Similar Items"
   ]
  },
  {
   "cell_type": "code",
   "execution_count": null,
   "id": "4d274c1d",
   "metadata": {},
   "outputs": [],
   "source": []
  }
 ],
 "metadata": {
  "kernelspec": {
   "display_name": "Python 3 (ipykernel)",
   "language": "python",
   "name": "python3"
  },
  "language_info": {
   "codemirror_mode": {
    "name": "ipython",
    "version": 3
   },
   "file_extension": ".py",
   "mimetype": "text/x-python",
   "name": "python",
   "nbconvert_exporter": "python",
   "pygments_lexer": "ipython3",
   "version": "3.9.9"
  }
 },
 "nbformat": 4,
 "nbformat_minor": 5
}
