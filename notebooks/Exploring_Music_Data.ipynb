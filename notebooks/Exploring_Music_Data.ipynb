{
 "cells": [
  {
   "cell_type": "code",
   "execution_count": 32,
   "id": "8447b91e",
   "metadata": {},
   "outputs": [],
   "source": [
    "import pandas as pd\n",
    "import numpy as np"
   ]
  },
  {
   "cell_type": "markdown",
   "id": "2c11e1d7",
   "metadata": {},
   "source": [
    "## Data Preparation"
   ]
  },
  {
   "cell_type": "code",
   "execution_count": 33,
   "id": "243e3b78",
   "metadata": {},
   "outputs": [],
   "source": [
    "df = pd.read_csv('../data/spotify_dataset.csv', on_bad_lines='skip')"
   ]
  },
  {
   "cell_type": "code",
   "execution_count": 34,
   "id": "4d5c0080",
   "metadata": {},
   "outputs": [
    {
     "data": {
      "text/plain": [
       "12891680"
      ]
     },
     "execution_count": 34,
     "metadata": {},
     "output_type": "execute_result"
    }
   ],
   "source": [
    "len(df)"
   ]
  },
  {
   "cell_type": "code",
   "execution_count": 35,
   "id": "2cb22001",
   "metadata": {},
   "outputs": [
    {
     "data": {
      "text/html": [
       "<div>\n",
       "<style scoped>\n",
       "    .dataframe tbody tr th:only-of-type {\n",
       "        vertical-align: middle;\n",
       "    }\n",
       "\n",
       "    .dataframe tbody tr th {\n",
       "        vertical-align: top;\n",
       "    }\n",
       "\n",
       "    .dataframe thead th {\n",
       "        text-align: right;\n",
       "    }\n",
       "</style>\n",
       "<table border=\"1\" class=\"dataframe\">\n",
       "  <thead>\n",
       "    <tr style=\"text-align: right;\">\n",
       "      <th></th>\n",
       "      <th>user_id</th>\n",
       "      <th>\"artistname\"</th>\n",
       "      <th>\"trackname\"</th>\n",
       "      <th>\"playlistname\"</th>\n",
       "    </tr>\n",
       "  </thead>\n",
       "  <tbody>\n",
       "    <tr>\n",
       "      <th>0</th>\n",
       "      <td>9cc0cfd4d7d7885102480dd99e7a90d6</td>\n",
       "      <td>Elvis Costello</td>\n",
       "      <td>(The Angels Wanna Wear My) Red Shoes</td>\n",
       "      <td>HARD ROCK 2010</td>\n",
       "    </tr>\n",
       "    <tr>\n",
       "      <th>1</th>\n",
       "      <td>9cc0cfd4d7d7885102480dd99e7a90d6</td>\n",
       "      <td>Elvis Costello &amp; The Attractions</td>\n",
       "      <td>(What's So Funny 'Bout) Peace, Love And Unders...</td>\n",
       "      <td>HARD ROCK 2010</td>\n",
       "    </tr>\n",
       "    <tr>\n",
       "      <th>2</th>\n",
       "      <td>9cc0cfd4d7d7885102480dd99e7a90d6</td>\n",
       "      <td>Tiffany Page</td>\n",
       "      <td>7 Years Too Late</td>\n",
       "      <td>HARD ROCK 2010</td>\n",
       "    </tr>\n",
       "    <tr>\n",
       "      <th>3</th>\n",
       "      <td>9cc0cfd4d7d7885102480dd99e7a90d6</td>\n",
       "      <td>Elvis Costello &amp; The Attractions</td>\n",
       "      <td>Accidents Will Happen</td>\n",
       "      <td>HARD ROCK 2010</td>\n",
       "    </tr>\n",
       "    <tr>\n",
       "      <th>4</th>\n",
       "      <td>9cc0cfd4d7d7885102480dd99e7a90d6</td>\n",
       "      <td>Elvis Costello</td>\n",
       "      <td>Alison</td>\n",
       "      <td>HARD ROCK 2010</td>\n",
       "    </tr>\n",
       "  </tbody>\n",
       "</table>\n",
       "</div>"
      ],
      "text/plain": [
       "                            user_id                      \"artistname\"  \\\n",
       "0  9cc0cfd4d7d7885102480dd99e7a90d6                    Elvis Costello   \n",
       "1  9cc0cfd4d7d7885102480dd99e7a90d6  Elvis Costello & The Attractions   \n",
       "2  9cc0cfd4d7d7885102480dd99e7a90d6                      Tiffany Page   \n",
       "3  9cc0cfd4d7d7885102480dd99e7a90d6  Elvis Costello & The Attractions   \n",
       "4  9cc0cfd4d7d7885102480dd99e7a90d6                    Elvis Costello   \n",
       "\n",
       "                                         \"trackname\"  \"playlistname\"  \n",
       "0               (The Angels Wanna Wear My) Red Shoes  HARD ROCK 2010  \n",
       "1  (What's So Funny 'Bout) Peace, Love And Unders...  HARD ROCK 2010  \n",
       "2                                   7 Years Too Late  HARD ROCK 2010  \n",
       "3                              Accidents Will Happen  HARD ROCK 2010  \n",
       "4                                             Alison  HARD ROCK 2010  "
      ]
     },
     "execution_count": 35,
     "metadata": {},
     "output_type": "execute_result"
    }
   ],
   "source": [
    "df.head()"
   ]
  },
  {
   "cell_type": "code",
   "execution_count": 36,
   "id": "db9186c7",
   "metadata": {},
   "outputs": [],
   "source": [
    "# Fixed Column Headers (removed quotes, whitespace, and simplified the column names)\n",
    "df.columns = df.columns.str.replace(\"\\\"\", \"\").str.strip().str.replace(\"name\",\"\")"
   ]
  },
  {
   "cell_type": "code",
   "execution_count": 37,
   "id": "9ec10679",
   "metadata": {},
   "outputs": [
    {
     "data": {
      "text/html": [
       "<div>\n",
       "<style scoped>\n",
       "    .dataframe tbody tr th:only-of-type {\n",
       "        vertical-align: middle;\n",
       "    }\n",
       "\n",
       "    .dataframe tbody tr th {\n",
       "        vertical-align: top;\n",
       "    }\n",
       "\n",
       "    .dataframe thead th {\n",
       "        text-align: right;\n",
       "    }\n",
       "</style>\n",
       "<table border=\"1\" class=\"dataframe\">\n",
       "  <thead>\n",
       "    <tr style=\"text-align: right;\">\n",
       "      <th></th>\n",
       "      <th>user_id</th>\n",
       "      <th>artist</th>\n",
       "      <th>track</th>\n",
       "      <th>playlist</th>\n",
       "    </tr>\n",
       "  </thead>\n",
       "  <tbody>\n",
       "    <tr>\n",
       "      <th>0</th>\n",
       "      <td>9cc0cfd4d7d7885102480dd99e7a90d6</td>\n",
       "      <td>Elvis Costello</td>\n",
       "      <td>(The Angels Wanna Wear My) Red Shoes</td>\n",
       "      <td>HARD ROCK 2010</td>\n",
       "    </tr>\n",
       "    <tr>\n",
       "      <th>1</th>\n",
       "      <td>9cc0cfd4d7d7885102480dd99e7a90d6</td>\n",
       "      <td>Elvis Costello &amp; The Attractions</td>\n",
       "      <td>(What's So Funny 'Bout) Peace, Love And Unders...</td>\n",
       "      <td>HARD ROCK 2010</td>\n",
       "    </tr>\n",
       "    <tr>\n",
       "      <th>2</th>\n",
       "      <td>9cc0cfd4d7d7885102480dd99e7a90d6</td>\n",
       "      <td>Tiffany Page</td>\n",
       "      <td>7 Years Too Late</td>\n",
       "      <td>HARD ROCK 2010</td>\n",
       "    </tr>\n",
       "    <tr>\n",
       "      <th>3</th>\n",
       "      <td>9cc0cfd4d7d7885102480dd99e7a90d6</td>\n",
       "      <td>Elvis Costello &amp; The Attractions</td>\n",
       "      <td>Accidents Will Happen</td>\n",
       "      <td>HARD ROCK 2010</td>\n",
       "    </tr>\n",
       "    <tr>\n",
       "      <th>4</th>\n",
       "      <td>9cc0cfd4d7d7885102480dd99e7a90d6</td>\n",
       "      <td>Elvis Costello</td>\n",
       "      <td>Alison</td>\n",
       "      <td>HARD ROCK 2010</td>\n",
       "    </tr>\n",
       "  </tbody>\n",
       "</table>\n",
       "</div>"
      ],
      "text/plain": [
       "                            user_id                            artist  \\\n",
       "0  9cc0cfd4d7d7885102480dd99e7a90d6                    Elvis Costello   \n",
       "1  9cc0cfd4d7d7885102480dd99e7a90d6  Elvis Costello & The Attractions   \n",
       "2  9cc0cfd4d7d7885102480dd99e7a90d6                      Tiffany Page   \n",
       "3  9cc0cfd4d7d7885102480dd99e7a90d6  Elvis Costello & The Attractions   \n",
       "4  9cc0cfd4d7d7885102480dd99e7a90d6                    Elvis Costello   \n",
       "\n",
       "                                               track        playlist  \n",
       "0               (The Angels Wanna Wear My) Red Shoes  HARD ROCK 2010  \n",
       "1  (What's So Funny 'Bout) Peace, Love And Unders...  HARD ROCK 2010  \n",
       "2                                   7 Years Too Late  HARD ROCK 2010  \n",
       "3                              Accidents Will Happen  HARD ROCK 2010  \n",
       "4                                             Alison  HARD ROCK 2010  "
      ]
     },
     "execution_count": 37,
     "metadata": {},
     "output_type": "execute_result"
    }
   ],
   "source": [
    "df.head()"
   ]
  },
  {
   "cell_type": "code",
   "execution_count": 38,
   "id": "fc544cf8",
   "metadata": {},
   "outputs": [
    {
     "data": {
      "text/plain": [
       "user_id     object\n",
       "artist      object\n",
       "track       object\n",
       "playlist    object\n",
       "dtype: object"
      ]
     },
     "execution_count": 38,
     "metadata": {},
     "output_type": "execute_result"
    }
   ],
   "source": [
    "df.dtypes"
   ]
  },
  {
   "cell_type": "code",
   "execution_count": 39,
   "id": "4e49ccca",
   "metadata": {
    "scrolled": true
   },
   "outputs": [
    {
     "data": {
      "text/plain": [
       "user_id         0\n",
       "artist      33568\n",
       "track          85\n",
       "playlist     1246\n",
       "dtype: int64"
      ]
     },
     "execution_count": 39,
     "metadata": {},
     "output_type": "execute_result"
    }
   ],
   "source": [
    "df.isnull().sum()"
   ]
  },
  {
   "cell_type": "code",
   "execution_count": 40,
   "id": "8571ced7",
   "metadata": {},
   "outputs": [],
   "source": [
    "df = df.dropna() # Removes rows with NULL values"
   ]
  },
  {
   "cell_type": "code",
   "execution_count": 41,
   "id": "d7bcbbba",
   "metadata": {},
   "outputs": [
    {
     "data": {
      "text/plain": [
       "user_id     0\n",
       "artist      0\n",
       "track       0\n",
       "playlist    0\n",
       "dtype: int64"
      ]
     },
     "execution_count": 41,
     "metadata": {},
     "output_type": "execute_result"
    }
   ],
   "source": [
    "df.isnull().sum()"
   ]
  },
  {
   "cell_type": "code",
   "execution_count": 42,
   "id": "d87584f2",
   "metadata": {},
   "outputs": [
    {
     "data": {
      "text/plain": [
       "12856838"
      ]
     },
     "execution_count": 42,
     "metadata": {},
     "output_type": "execute_result"
    }
   ],
   "source": [
    "len(df)"
   ]
  },
  {
   "cell_type": "markdown",
   "id": "727c714b",
   "metadata": {},
   "source": [
    "## Exploratory Data Analysis"
   ]
  },
  {
   "cell_type": "code",
   "execution_count": 43,
   "id": "a09947f9",
   "metadata": {},
   "outputs": [
    {
     "name": "stdout",
     "output_type": "stream",
     "text": [
      "user_id\n",
      "['9cc0cfd4d7d7885102480dd99e7a90d6' '07f0fc3be95dcd878966b1f9572ff670'\n",
      " '944c80d26922ae634d6ce445b1fdff7f' 'c5cdf06b5f1836006ef2a2fe4f5ff103'\n",
      " 'f3743cac98b7255c3c4a23be09dee7e6']\n",
      "15914\n",
      "\n",
      "artist\n",
      "['Elvis Costello' 'Elvis Costello & The Attractions' 'Tiffany Page'\n",
      " 'Lissie' 'Paul McCartney']\n",
      "289603\n",
      "\n",
      "track\n",
      "['(The Angels Wanna Wear My) Red Shoes'\n",
      " \"(What's So Funny 'Bout) Peace, Love And Understanding\"\n",
      " '7 Years Too Late' 'Accidents Will Happen' 'Alison']\n",
      "2004523\n",
      "\n",
      "playlist\n",
      "['HARD ROCK 2010' 'IOW 2012' '2080' 'C418' 'Chill out']\n",
      "157320\n",
      "\n"
     ]
    }
   ],
   "source": [
    "for col in df.columns:\n",
    "    print(col)\n",
    "    print(df[col].unique()[:5])\n",
    "    print(df[col].nunique())\n",
    "    print()"
   ]
  },
  {
   "cell_type": "code",
   "execution_count": 44,
   "id": "823aa02f",
   "metadata": {},
   "outputs": [],
   "source": [
    "# Possible ideas:\n",
    "# Group song and artist, so that same name songs are distinct\n",
    "# Goal is to recommend songs\n"
   ]
  },
  {
   "cell_type": "code",
   "execution_count": 45,
   "id": "fcdcd136",
   "metadata": {},
   "outputs": [],
   "source": [
    "# Column that combines song and artist\n",
    "df['track_artist'] = df['track'] + ', ' + df['artist']"
   ]
  },
  {
   "cell_type": "markdown",
   "id": "c19de750",
   "metadata": {},
   "source": [
    "Checking Sparsity"
   ]
  },
  {
   "cell_type": "code",
   "execution_count": 46,
   "id": "3060810b",
   "metadata": {},
   "outputs": [
    {
     "name": "stdout",
     "output_type": "stream",
     "text": [
      "2789650 157320 12856838\n"
     ]
    },
    {
     "data": {
      "text/plain": [
       "2.9295473070294357e-05"
      ]
     },
     "execution_count": 46,
     "metadata": {},
     "output_type": "execute_result"
    }
   ],
   "source": [
    "# Checking Sparsity\n",
    "n_tracks = df.track_artist.nunique()\n",
    "n_playlists = df.playlist.nunique()\n",
    "n_interactions = len(df)\n",
    "\n",
    "print(n_tracks, n_playlists, n_interactions)\n",
    "n_interactions / (n_tracks * n_playlists)"
   ]
  },
  {
   "cell_type": "markdown",
   "id": "d6657ce8",
   "metadata": {},
   "source": [
    "We will have a very sparse matrix."
   ]
  },
  {
   "cell_type": "markdown",
   "id": "7fb2e99a",
   "metadata": {},
   "source": [
    "## Validation"
   ]
  },
  {
   "cell_type": "code",
   "execution_count": 47,
   "id": "9c16065f",
   "metadata": {},
   "outputs": [
    {
     "name": "stdout",
     "output_type": "stream",
     "text": [
      "11571154\n"
     ]
    }
   ],
   "source": [
    "row_split = int(n_interactions * .9)\n",
    "print(row_split)"
   ]
  },
  {
   "cell_type": "code",
   "execution_count": 48,
   "id": "c9b44258",
   "metadata": {},
   "outputs": [],
   "source": [
    "# Split into training and validation datasets\n",
    "df_train = df.iloc[:row_split]\n",
    "df_val = df.iloc[row_split:]"
   ]
  },
  {
   "cell_type": "code",
   "execution_count": 49,
   "id": "4f494e58",
   "metadata": {},
   "outputs": [
    {
     "data": {
      "text/plain": [
       "Midnight City, M83                                           2363\n",
       "Get Lucky - Radio Edit, Daft Punk                            2109\n",
       "Radioactive, Imagine Dragons                                 2083\n",
       "Wake Me Up, Avicii                                           2032\n",
       "Little Talks, Of Monsters and Men                            2021\n",
       "Royals, Lorde                                                2010\n",
       "Ho Hey, The Lumineers                                        1988\n",
       "Can't Hold Us - feat. Ray Dalton, Macklemore & Ryan Lewis    1843\n",
       "Pompeii, Bastille                                            1841\n",
       "Blurred Lines, Robin Thicke                                  1806\n",
       "Name: track_artist, dtype: int64"
      ]
     },
     "execution_count": 49,
     "metadata": {},
     "output_type": "execute_result"
    }
   ],
   "source": [
    "# Find 10 most common songs\n",
    "df_train.track_artist.value_counts().iloc[:10]"
   ]
  },
  {
   "cell_type": "code",
   "execution_count": 50,
   "id": "2511977e",
   "metadata": {},
   "outputs": [
    {
     "data": {
      "text/plain": [
       "array(['Midnight City, M83', 'Get Lucky - Radio Edit, Daft Punk',\n",
       "       'Radioactive, Imagine Dragons', 'Wake Me Up, Avicii',\n",
       "       'Little Talks, Of Monsters and Men', 'Royals, Lorde',\n",
       "       'Ho Hey, The Lumineers',\n",
       "       \"Can't Hold Us - feat. Ray Dalton, Macklemore & Ryan Lewis\",\n",
       "       'Pompeii, Bastille', 'Blurred Lines, Robin Thicke'], dtype=object)"
      ]
     },
     "execution_count": 50,
     "metadata": {},
     "output_type": "execute_result"
    }
   ],
   "source": [
    "# Frequency of most common songs\n",
    "n_rec = 10\n",
    "freq = df_train.track_artist.value_counts().iloc[:n_rec].index.values\n",
    "freq"
   ]
  },
  {
   "cell_type": "code",
   "execution_count": 51,
   "id": "c6a71e1d",
   "metadata": {},
   "outputs": [
    {
     "data": {
      "text/plain": [
       "playlist\n",
       " !!                                              {Christine, The House Of Love}\n",
       " . bounc ' in . beats .       {Nights Off, Siriusmo, Doin' it Right, Daft Pu...\n",
       " ASLA Birthday April 13/13    {Scream & Shout, will.i.am, One Way Or Another...\n",
       " Ambient-Chill                {Ghostwriter, RJD2, Titanium / Pavane, The Pia...\n",
       " Desire                       {A Sky Full of Stars, Coldplay, Salsa Tequila,...\n",
       "                                                    ...                        \n",
       "🗽🗽🗽                           {Automatic, Miranda Lambert, Last Name, Carrie...\n",
       "😔❤️😴😘                         {All of Me, John Legend, Stay, Hurts, Love Me ...\n",
       "😕                             {Own It, Drake, Sober, P!nk, Furthest Thing, D...\n",
       "🙌                             {Only, Nicki Minaj, Poetic Justice, Kendrick L...\n",
       "🚙                             {American Oxygen, Rihanna, Get Low, Dillon Fra...\n",
       "Name: track_artist, Length: 19450, dtype: object"
      ]
     },
     "execution_count": 51,
     "metadata": {},
     "output_type": "execute_result"
    }
   ],
   "source": [
    "# Grouping Songs by Playlist\n",
    "val_group = df_val.groupby('playlist').track_artist.apply(set)\n",
    "val_group"
   ]
  },
  {
   "cell_type": "code",
   "execution_count": 52,
   "id": "97551e3e",
   "metadata": {},
   "outputs": [
    {
     "data": {
      "text/plain": [
       "array([['Midnight City, M83', 'Get Lucky - Radio Edit, Daft Punk',\n",
       "        'Radioactive, Imagine Dragons', 'Wake Me Up, Avicii',\n",
       "        'Little Talks, Of Monsters and Men', 'Royals, Lorde',\n",
       "        'Ho Hey, The Lumineers',\n",
       "        \"Can't Hold Us - feat. Ray Dalton, Macklemore & Ryan Lewis\",\n",
       "        'Pompeii, Bastille', 'Blurred Lines, Robin Thicke'],\n",
       "       ['Midnight City, M83', 'Get Lucky - Radio Edit, Daft Punk',\n",
       "        'Radioactive, Imagine Dragons', 'Wake Me Up, Avicii',\n",
       "        'Little Talks, Of Monsters and Men', 'Royals, Lorde',\n",
       "        'Ho Hey, The Lumineers',\n",
       "        \"Can't Hold Us - feat. Ray Dalton, Macklemore & Ryan Lewis\",\n",
       "        'Pompeii, Bastille', 'Blurred Lines, Robin Thicke'],\n",
       "       ['Midnight City, M83', 'Get Lucky - Radio Edit, Daft Punk',\n",
       "        'Radioactive, Imagine Dragons', 'Wake Me Up, Avicii',\n",
       "        'Little Talks, Of Monsters and Men', 'Royals, Lorde',\n",
       "        'Ho Hey, The Lumineers',\n",
       "        \"Can't Hold Us - feat. Ray Dalton, Macklemore & Ryan Lewis\",\n",
       "        'Pompeii, Bastille', 'Blurred Lines, Robin Thicke'],\n",
       "       ['Midnight City, M83', 'Get Lucky - Radio Edit, Daft Punk',\n",
       "        'Radioactive, Imagine Dragons', 'Wake Me Up, Avicii',\n",
       "        'Little Talks, Of Monsters and Men', 'Royals, Lorde',\n",
       "        'Ho Hey, The Lumineers',\n",
       "        \"Can't Hold Us - feat. Ray Dalton, Macklemore & Ryan Lewis\",\n",
       "        'Pompeii, Bastille', 'Blurred Lines, Robin Thicke'],\n",
       "       ['Midnight City, M83', 'Get Lucky - Radio Edit, Daft Punk',\n",
       "        'Radioactive, Imagine Dragons', 'Wake Me Up, Avicii',\n",
       "        'Little Talks, Of Monsters and Men', 'Royals, Lorde',\n",
       "        'Ho Hey, The Lumineers',\n",
       "        \"Can't Hold Us - feat. Ray Dalton, Macklemore & Ryan Lewis\",\n",
       "        'Pompeii, Bastille', 'Blurred Lines, Robin Thicke'],\n",
       "       ['Midnight City, M83', 'Get Lucky - Radio Edit, Daft Punk',\n",
       "        'Radioactive, Imagine Dragons', 'Wake Me Up, Avicii',\n",
       "        'Little Talks, Of Monsters and Men', 'Royals, Lorde',\n",
       "        'Ho Hey, The Lumineers',\n",
       "        \"Can't Hold Us - feat. Ray Dalton, Macklemore & Ryan Lewis\",\n",
       "        'Pompeii, Bastille', 'Blurred Lines, Robin Thicke'],\n",
       "       ['Midnight City, M83', 'Get Lucky - Radio Edit, Daft Punk',\n",
       "        'Radioactive, Imagine Dragons', 'Wake Me Up, Avicii',\n",
       "        'Little Talks, Of Monsters and Men', 'Royals, Lorde',\n",
       "        'Ho Hey, The Lumineers',\n",
       "        \"Can't Hold Us - feat. Ray Dalton, Macklemore & Ryan Lewis\",\n",
       "        'Pompeii, Bastille', 'Blurred Lines, Robin Thicke'],\n",
       "       ['Midnight City, M83', 'Get Lucky - Radio Edit, Daft Punk',\n",
       "        'Radioactive, Imagine Dragons', 'Wake Me Up, Avicii',\n",
       "        'Little Talks, Of Monsters and Men', 'Royals, Lorde',\n",
       "        'Ho Hey, The Lumineers',\n",
       "        \"Can't Hold Us - feat. Ray Dalton, Macklemore & Ryan Lewis\",\n",
       "        'Pompeii, Bastille', 'Blurred Lines, Robin Thicke'],\n",
       "       ['Midnight City, M83', 'Get Lucky - Radio Edit, Daft Punk',\n",
       "        'Radioactive, Imagine Dragons', 'Wake Me Up, Avicii',\n",
       "        'Little Talks, Of Monsters and Men', 'Royals, Lorde',\n",
       "        'Ho Hey, The Lumineers',\n",
       "        \"Can't Hold Us - feat. Ray Dalton, Macklemore & Ryan Lewis\",\n",
       "        'Pompeii, Bastille', 'Blurred Lines, Robin Thicke'],\n",
       "       ['Midnight City, M83', 'Get Lucky - Radio Edit, Daft Punk',\n",
       "        'Radioactive, Imagine Dragons', 'Wake Me Up, Avicii',\n",
       "        'Little Talks, Of Monsters and Men', 'Royals, Lorde',\n",
       "        'Ho Hey, The Lumineers',\n",
       "        \"Can't Hold Us - feat. Ray Dalton, Macklemore & Ryan Lewis\",\n",
       "        'Pompeii, Bastille', 'Blurred Lines, Robin Thicke']], dtype=object)"
      ]
     },
     "execution_count": 52,
     "metadata": {},
     "output_type": "execute_result"
    }
   ],
   "source": [
    "n_val = len(val_group)\n",
    "recommendations = np.repeat([freq], n_val, axis=0)\n",
    "recommendations[:10]"
   ]
  },
  {
   "cell_type": "code",
   "execution_count": 53,
   "id": "933cc593",
   "metadata": {},
   "outputs": [
    {
     "data": {
      "text/plain": [
       "0.008483290488431786"
      ]
     },
     "execution_count": 53,
     "metadata": {},
     "output_type": "execute_result"
    }
   ],
   "source": [
    "# Finds out how often the top 10 tracks appear in validation dataset playlists\n",
    "average_precision = 0\n",
    "\n",
    "for i, playlist in enumerate(val_group):\n",
    "    count = 0\n",
    "    for track_artist in recommendations[i]:\n",
    "        if track_artist in playlist:\n",
    "            count = count + 1\n",
    "    precision = count / n_rec\n",
    "    average_precision = average_precision + precision\n",
    "\n",
    "average_precision = average_precision / n_val\n",
    "average_precision"
   ]
  },
  {
   "cell_type": "markdown",
   "id": "ad63254a",
   "metadata": {},
   "source": [
    "This is our baseline. Now we can try to improve it using different methods."
   ]
  }
 ],
 "metadata": {
  "kernelspec": {
   "display_name": "Python 3 (ipykernel)",
   "language": "python",
   "name": "python3"
  },
  "language_info": {
   "codemirror_mode": {
    "name": "ipython",
    "version": 3
   },
   "file_extension": ".py",
   "mimetype": "text/x-python",
   "name": "python",
   "nbconvert_exporter": "python",
   "pygments_lexer": "ipython3",
   "version": "3.9.9"
  }
 },
 "nbformat": 4,
 "nbformat_minor": 5
}
