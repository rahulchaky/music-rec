{
 "cells": [
  {
   "cell_type": "code",
   "execution_count": 81,
   "id": "8447b91e",
   "metadata": {},
   "outputs": [],
   "source": [
    "import pandas as pd\n",
    "import numpy as np"
   ]
  },
  {
   "cell_type": "markdown",
   "id": "2c11e1d7",
   "metadata": {},
   "source": [
    "## Data Preparation"
   ]
  },
  {
   "cell_type": "code",
   "execution_count": 82,
   "id": "243e3b78",
   "metadata": {},
   "outputs": [],
   "source": [
    "df = pd.read_csv('../data/spotify_dataset.csv', on_bad_lines='skip')"
   ]
  },
  {
   "cell_type": "code",
   "execution_count": 83,
   "id": "4d5c0080",
   "metadata": {},
   "outputs": [
    {
     "data": {
      "text/plain": [
       "12891680"
      ]
     },
     "execution_count": 83,
     "metadata": {},
     "output_type": "execute_result"
    }
   ],
   "source": [
    "len(df)"
   ]
  },
  {
   "cell_type": "code",
   "execution_count": 84,
   "id": "2cb22001",
   "metadata": {},
   "outputs": [
    {
     "data": {
      "text/html": [
       "<div>\n",
       "<style scoped>\n",
       "    .dataframe tbody tr th:only-of-type {\n",
       "        vertical-align: middle;\n",
       "    }\n",
       "\n",
       "    .dataframe tbody tr th {\n",
       "        vertical-align: top;\n",
       "    }\n",
       "\n",
       "    .dataframe thead th {\n",
       "        text-align: right;\n",
       "    }\n",
       "</style>\n",
       "<table border=\"1\" class=\"dataframe\">\n",
       "  <thead>\n",
       "    <tr style=\"text-align: right;\">\n",
       "      <th></th>\n",
       "      <th>user_id</th>\n",
       "      <th>\"artistname\"</th>\n",
       "      <th>\"trackname\"</th>\n",
       "      <th>\"playlistname\"</th>\n",
       "    </tr>\n",
       "  </thead>\n",
       "  <tbody>\n",
       "    <tr>\n",
       "      <th>0</th>\n",
       "      <td>9cc0cfd4d7d7885102480dd99e7a90d6</td>\n",
       "      <td>Elvis Costello</td>\n",
       "      <td>(The Angels Wanna Wear My) Red Shoes</td>\n",
       "      <td>HARD ROCK 2010</td>\n",
       "    </tr>\n",
       "    <tr>\n",
       "      <th>1</th>\n",
       "      <td>9cc0cfd4d7d7885102480dd99e7a90d6</td>\n",
       "      <td>Elvis Costello &amp; The Attractions</td>\n",
       "      <td>(What's So Funny 'Bout) Peace, Love And Unders...</td>\n",
       "      <td>HARD ROCK 2010</td>\n",
       "    </tr>\n",
       "    <tr>\n",
       "      <th>2</th>\n",
       "      <td>9cc0cfd4d7d7885102480dd99e7a90d6</td>\n",
       "      <td>Tiffany Page</td>\n",
       "      <td>7 Years Too Late</td>\n",
       "      <td>HARD ROCK 2010</td>\n",
       "    </tr>\n",
       "    <tr>\n",
       "      <th>3</th>\n",
       "      <td>9cc0cfd4d7d7885102480dd99e7a90d6</td>\n",
       "      <td>Elvis Costello &amp; The Attractions</td>\n",
       "      <td>Accidents Will Happen</td>\n",
       "      <td>HARD ROCK 2010</td>\n",
       "    </tr>\n",
       "    <tr>\n",
       "      <th>4</th>\n",
       "      <td>9cc0cfd4d7d7885102480dd99e7a90d6</td>\n",
       "      <td>Elvis Costello</td>\n",
       "      <td>Alison</td>\n",
       "      <td>HARD ROCK 2010</td>\n",
       "    </tr>\n",
       "  </tbody>\n",
       "</table>\n",
       "</div>"
      ],
      "text/plain": [
       "                            user_id                      \"artistname\"  \\\n",
       "0  9cc0cfd4d7d7885102480dd99e7a90d6                    Elvis Costello   \n",
       "1  9cc0cfd4d7d7885102480dd99e7a90d6  Elvis Costello & The Attractions   \n",
       "2  9cc0cfd4d7d7885102480dd99e7a90d6                      Tiffany Page   \n",
       "3  9cc0cfd4d7d7885102480dd99e7a90d6  Elvis Costello & The Attractions   \n",
       "4  9cc0cfd4d7d7885102480dd99e7a90d6                    Elvis Costello   \n",
       "\n",
       "                                         \"trackname\"  \"playlistname\"  \n",
       "0               (The Angels Wanna Wear My) Red Shoes  HARD ROCK 2010  \n",
       "1  (What's So Funny 'Bout) Peace, Love And Unders...  HARD ROCK 2010  \n",
       "2                                   7 Years Too Late  HARD ROCK 2010  \n",
       "3                              Accidents Will Happen  HARD ROCK 2010  \n",
       "4                                             Alison  HARD ROCK 2010  "
      ]
     },
     "execution_count": 84,
     "metadata": {},
     "output_type": "execute_result"
    }
   ],
   "source": [
    "df.head()"
   ]
  },
  {
   "cell_type": "code",
   "execution_count": 85,
   "id": "db9186c7",
   "metadata": {},
   "outputs": [],
   "source": [
    "# Fixed Column Headers (removed quotes, whitespace, and simplified the column names)\n",
    "df.columns = df.columns.str.replace(\"\\\"\", \"\").str.strip().str.replace(\"name\",\"\")"
   ]
  },
  {
   "cell_type": "code",
   "execution_count": 86,
   "id": "9ec10679",
   "metadata": {},
   "outputs": [
    {
     "data": {
      "text/html": [
       "<div>\n",
       "<style scoped>\n",
       "    .dataframe tbody tr th:only-of-type {\n",
       "        vertical-align: middle;\n",
       "    }\n",
       "\n",
       "    .dataframe tbody tr th {\n",
       "        vertical-align: top;\n",
       "    }\n",
       "\n",
       "    .dataframe thead th {\n",
       "        text-align: right;\n",
       "    }\n",
       "</style>\n",
       "<table border=\"1\" class=\"dataframe\">\n",
       "  <thead>\n",
       "    <tr style=\"text-align: right;\">\n",
       "      <th></th>\n",
       "      <th>user_id</th>\n",
       "      <th>artist</th>\n",
       "      <th>track</th>\n",
       "      <th>playlist</th>\n",
       "    </tr>\n",
       "  </thead>\n",
       "  <tbody>\n",
       "    <tr>\n",
       "      <th>0</th>\n",
       "      <td>9cc0cfd4d7d7885102480dd99e7a90d6</td>\n",
       "      <td>Elvis Costello</td>\n",
       "      <td>(The Angels Wanna Wear My) Red Shoes</td>\n",
       "      <td>HARD ROCK 2010</td>\n",
       "    </tr>\n",
       "    <tr>\n",
       "      <th>1</th>\n",
       "      <td>9cc0cfd4d7d7885102480dd99e7a90d6</td>\n",
       "      <td>Elvis Costello &amp; The Attractions</td>\n",
       "      <td>(What's So Funny 'Bout) Peace, Love And Unders...</td>\n",
       "      <td>HARD ROCK 2010</td>\n",
       "    </tr>\n",
       "    <tr>\n",
       "      <th>2</th>\n",
       "      <td>9cc0cfd4d7d7885102480dd99e7a90d6</td>\n",
       "      <td>Tiffany Page</td>\n",
       "      <td>7 Years Too Late</td>\n",
       "      <td>HARD ROCK 2010</td>\n",
       "    </tr>\n",
       "    <tr>\n",
       "      <th>3</th>\n",
       "      <td>9cc0cfd4d7d7885102480dd99e7a90d6</td>\n",
       "      <td>Elvis Costello &amp; The Attractions</td>\n",
       "      <td>Accidents Will Happen</td>\n",
       "      <td>HARD ROCK 2010</td>\n",
       "    </tr>\n",
       "    <tr>\n",
       "      <th>4</th>\n",
       "      <td>9cc0cfd4d7d7885102480dd99e7a90d6</td>\n",
       "      <td>Elvis Costello</td>\n",
       "      <td>Alison</td>\n",
       "      <td>HARD ROCK 2010</td>\n",
       "    </tr>\n",
       "  </tbody>\n",
       "</table>\n",
       "</div>"
      ],
      "text/plain": [
       "                            user_id                            artist  \\\n",
       "0  9cc0cfd4d7d7885102480dd99e7a90d6                    Elvis Costello   \n",
       "1  9cc0cfd4d7d7885102480dd99e7a90d6  Elvis Costello & The Attractions   \n",
       "2  9cc0cfd4d7d7885102480dd99e7a90d6                      Tiffany Page   \n",
       "3  9cc0cfd4d7d7885102480dd99e7a90d6  Elvis Costello & The Attractions   \n",
       "4  9cc0cfd4d7d7885102480dd99e7a90d6                    Elvis Costello   \n",
       "\n",
       "                                               track        playlist  \n",
       "0               (The Angels Wanna Wear My) Red Shoes  HARD ROCK 2010  \n",
       "1  (What's So Funny 'Bout) Peace, Love And Unders...  HARD ROCK 2010  \n",
       "2                                   7 Years Too Late  HARD ROCK 2010  \n",
       "3                              Accidents Will Happen  HARD ROCK 2010  \n",
       "4                                             Alison  HARD ROCK 2010  "
      ]
     },
     "execution_count": 86,
     "metadata": {},
     "output_type": "execute_result"
    }
   ],
   "source": [
    "df.head()"
   ]
  },
  {
   "cell_type": "code",
   "execution_count": 87,
   "id": "fc544cf8",
   "metadata": {},
   "outputs": [
    {
     "data": {
      "text/plain": [
       "user_id     object\n",
       "artist      object\n",
       "track       object\n",
       "playlist    object\n",
       "dtype: object"
      ]
     },
     "execution_count": 87,
     "metadata": {},
     "output_type": "execute_result"
    }
   ],
   "source": [
    "df.dtypes"
   ]
  },
  {
   "cell_type": "code",
   "execution_count": 88,
   "id": "4e49ccca",
   "metadata": {
    "scrolled": true
   },
   "outputs": [
    {
     "data": {
      "text/plain": [
       "user_id         0\n",
       "artist      33568\n",
       "track          85\n",
       "playlist     1246\n",
       "dtype: int64"
      ]
     },
     "execution_count": 88,
     "metadata": {},
     "output_type": "execute_result"
    }
   ],
   "source": [
    "df.isnull().sum()"
   ]
  },
  {
   "cell_type": "code",
   "execution_count": 89,
   "id": "8571ced7",
   "metadata": {},
   "outputs": [],
   "source": [
    "df = df.dropna() # Removes rows with NULL values"
   ]
  },
  {
   "cell_type": "code",
   "execution_count": 90,
   "id": "d7bcbbba",
   "metadata": {},
   "outputs": [
    {
     "data": {
      "text/plain": [
       "user_id     0\n",
       "artist      0\n",
       "track       0\n",
       "playlist    0\n",
       "dtype: int64"
      ]
     },
     "execution_count": 90,
     "metadata": {},
     "output_type": "execute_result"
    }
   ],
   "source": [
    "df.isnull().sum()"
   ]
  },
  {
   "cell_type": "code",
   "execution_count": 91,
   "id": "d87584f2",
   "metadata": {},
   "outputs": [
    {
     "data": {
      "text/plain": [
       "12856838"
      ]
     },
     "execution_count": 91,
     "metadata": {},
     "output_type": "execute_result"
    }
   ],
   "source": [
    "len(df)"
   ]
  },
  {
   "cell_type": "markdown",
   "id": "727c714b",
   "metadata": {},
   "source": [
    "## Exploratory Data Analysis"
   ]
  },
  {
   "cell_type": "code",
   "execution_count": 92,
   "id": "a09947f9",
   "metadata": {},
   "outputs": [
    {
     "name": "stdout",
     "output_type": "stream",
     "text": [
      "user_id\n",
      "['9cc0cfd4d7d7885102480dd99e7a90d6' '07f0fc3be95dcd878966b1f9572ff670'\n",
      " '944c80d26922ae634d6ce445b1fdff7f' 'c5cdf06b5f1836006ef2a2fe4f5ff103'\n",
      " 'f3743cac98b7255c3c4a23be09dee7e6']\n",
      "15914\n",
      "\n",
      "artist\n",
      "['Elvis Costello' 'Elvis Costello & The Attractions' 'Tiffany Page'\n",
      " 'Lissie' 'Paul McCartney']\n",
      "289603\n",
      "\n",
      "track\n",
      "['(The Angels Wanna Wear My) Red Shoes'\n",
      " \"(What's So Funny 'Bout) Peace, Love And Understanding\"\n",
      " '7 Years Too Late' 'Accidents Will Happen' 'Alison']\n",
      "2004523\n",
      "\n",
      "playlist\n",
      "['HARD ROCK 2010' 'IOW 2012' '2080' 'C418' 'Chill out']\n",
      "157320\n",
      "\n"
     ]
    }
   ],
   "source": [
    "for col in df.columns:\n",
    "    print(col)\n",
    "    print(df[col].unique()[:5])\n",
    "    print(df[col].nunique())\n",
    "    print()"
   ]
  },
  {
   "cell_type": "code",
   "execution_count": 93,
   "id": "0633d9e8",
   "metadata": {},
   "outputs": [],
   "source": [
    "# Column that combines song and artist\n",
    "df['track_artist'] = df['track'] + ', ' + df['artist']"
   ]
  },
  {
   "cell_type": "markdown",
   "id": "d9d1800e",
   "metadata": {},
   "source": [
    "Checking Sparsity"
   ]
  },
  {
   "cell_type": "code",
   "execution_count": 94,
   "id": "ee5c75a2",
   "metadata": {},
   "outputs": [
    {
     "name": "stdout",
     "output_type": "stream",
     "text": [
      "2789650 15914 12856838\n"
     ]
    },
    {
     "data": {
      "text/plain": [
       "0.0002896043624116318"
      ]
     },
     "execution_count": 94,
     "metadata": {},
     "output_type": "execute_result"
    }
   ],
   "source": [
    "# Checking Sparsity\n",
    "n_tracks = df.track_artist.nunique()\n",
    "n_users = df.user_id.nunique()\n",
    "n_interactions = len(df)\n",
    "\n",
    "print(n_tracks, n_users, n_interactions)\n",
    "n_interactions / (n_tracks * n_users)"
   ]
  },
  {
   "cell_type": "markdown",
   "id": "784932b8",
   "metadata": {},
   "source": [
    "We will have a very sparse matrix."
   ]
  },
  {
   "cell_type": "markdown",
   "id": "bf968acb",
   "metadata": {},
   "source": [
    "## Validation"
   ]
  },
  {
   "cell_type": "code",
   "execution_count": 95,
   "id": "dbbdcbc6",
   "metadata": {},
   "outputs": [],
   "source": [
    "# Split into training and validation datasets randomly\n",
    "# Random sampling of users changes the baseline (.002...)\n",
    "from sklearn.model_selection import train_test_split\n",
    "\n",
    "df_train, df_val = train_test_split(df, test_size=0.2)"
   ]
  },
  {
   "cell_type": "code",
   "execution_count": 96,
   "id": "66a87776",
   "metadata": {},
   "outputs": [
    {
     "data": {
      "text/plain": [
       "Midnight City, M83                                           2107\n",
       "Radioactive, Imagine Dragons                                 1870\n",
       "Get Lucky - Radio Edit, Daft Punk                            1864\n",
       "Little Talks, Of Monsters and Men                            1828\n",
       "Wake Me Up, Avicii                                           1810\n",
       "Royals, Lorde                                                1742\n",
       "Ho Hey, The Lumineers                                        1723\n",
       "Can't Hold Us - feat. Ray Dalton, Macklemore & Ryan Lewis    1657\n",
       "Blurred Lines, Robin Thicke                                  1605\n",
       "Pompeii, Bastille                                            1600\n",
       "Name: track_artist, dtype: int64"
      ]
     },
     "execution_count": 96,
     "metadata": {},
     "output_type": "execute_result"
    }
   ],
   "source": [
    "# Find 10 most common songs\n",
    "df_train.track_artist.value_counts().iloc[:10]"
   ]
  },
  {
   "cell_type": "code",
   "execution_count": 97,
   "id": "5cd4de80",
   "metadata": {},
   "outputs": [
    {
     "data": {
      "text/plain": [
       "array(['Midnight City, M83', 'Radioactive, Imagine Dragons',\n",
       "       'Get Lucky - Radio Edit, Daft Punk',\n",
       "       'Little Talks, Of Monsters and Men', 'Wake Me Up, Avicii',\n",
       "       'Royals, Lorde', 'Ho Hey, The Lumineers',\n",
       "       \"Can't Hold Us - feat. Ray Dalton, Macklemore & Ryan Lewis\",\n",
       "       'Blurred Lines, Robin Thicke', 'Pompeii, Bastille'], dtype=object)"
      ]
     },
     "execution_count": 97,
     "metadata": {},
     "output_type": "execute_result"
    }
   ],
   "source": [
    "# Frequency of most common songs\n",
    "n_rec = 10\n",
    "freq = df_train.track_artist.value_counts().iloc[:n_rec].index.values\n",
    "freq"
   ]
  },
  {
   "cell_type": "code",
   "execution_count": 98,
   "id": "498d16da",
   "metadata": {},
   "outputs": [
    {
     "data": {
      "text/plain": [
       "user_id\n",
       "00055176fea33f6e027cd3302289378b    {Treasure, Bruno Mars, I Miss You, blink-182, ...\n",
       "0007f3dd09c91198371454c608d47f22    {Hurt, Johnny Cash, Bittersweet Memories, Bull...\n",
       "000b0f32b5739f052b9d40fcc5c41079    {My Love, Sofia Källgren, Let It Snow, Christe...\n",
       "000c11a16c89aa4b14b328080f5954ee    {Gravity - Live At The Fillmore Version, Sara ...\n",
       "00123e0f544dee3ab006aa7f1e5725a7    {Free Four - 2011 Remastered Version, Pink Flo...\n",
       "                                                          ...                        \n",
       "ffe32d5412269f3041c58cbf0dde3306    {Be True, Bruce Springsteen, Do You Love Me, T...\n",
       "ffec270eae226caa14ddaef291d73fff    {Up 2 U, Walk the Moon, Freedom, Afrojack, We ...\n",
       "fff60baf392613ed33f745b89a9b38f7    {Anthrax in the Pick 'n Mix, Jasper Carrott, A...\n",
       "fff616055993498d6127f3f467cf9f2b    {Holland Road, Mumford & Sons, Down in the Val...\n",
       "fff77dadf8528083c920b9c018847e8b    {42, Coldplay, Season, The Academy Is..., Anth...\n",
       "Name: track_artist, Length: 15419, dtype: object"
      ]
     },
     "execution_count": 98,
     "metadata": {},
     "output_type": "execute_result"
    }
   ],
   "source": [
    "# Grouping Songs by User\n",
    "val_group = df_val.groupby('user_id').track_artist.apply(set)\n",
    "val_group"
   ]
  },
  {
   "cell_type": "code",
   "execution_count": 99,
   "id": "48bce600",
   "metadata": {},
   "outputs": [
    {
     "data": {
      "text/plain": [
       "array([['Midnight City, M83', 'Radioactive, Imagine Dragons',\n",
       "        'Get Lucky - Radio Edit, Daft Punk',\n",
       "        'Little Talks, Of Monsters and Men', 'Wake Me Up, Avicii',\n",
       "        'Royals, Lorde', 'Ho Hey, The Lumineers',\n",
       "        \"Can't Hold Us - feat. Ray Dalton, Macklemore & Ryan Lewis\",\n",
       "        'Blurred Lines, Robin Thicke', 'Pompeii, Bastille'],\n",
       "       ['Midnight City, M83', 'Radioactive, Imagine Dragons',\n",
       "        'Get Lucky - Radio Edit, Daft Punk',\n",
       "        'Little Talks, Of Monsters and Men', 'Wake Me Up, Avicii',\n",
       "        'Royals, Lorde', 'Ho Hey, The Lumineers',\n",
       "        \"Can't Hold Us - feat. Ray Dalton, Macklemore & Ryan Lewis\",\n",
       "        'Blurred Lines, Robin Thicke', 'Pompeii, Bastille'],\n",
       "       ['Midnight City, M83', 'Radioactive, Imagine Dragons',\n",
       "        'Get Lucky - Radio Edit, Daft Punk',\n",
       "        'Little Talks, Of Monsters and Men', 'Wake Me Up, Avicii',\n",
       "        'Royals, Lorde', 'Ho Hey, The Lumineers',\n",
       "        \"Can't Hold Us - feat. Ray Dalton, Macklemore & Ryan Lewis\",\n",
       "        'Blurred Lines, Robin Thicke', 'Pompeii, Bastille'],\n",
       "       ['Midnight City, M83', 'Radioactive, Imagine Dragons',\n",
       "        'Get Lucky - Radio Edit, Daft Punk',\n",
       "        'Little Talks, Of Monsters and Men', 'Wake Me Up, Avicii',\n",
       "        'Royals, Lorde', 'Ho Hey, The Lumineers',\n",
       "        \"Can't Hold Us - feat. Ray Dalton, Macklemore & Ryan Lewis\",\n",
       "        'Blurred Lines, Robin Thicke', 'Pompeii, Bastille'],\n",
       "       ['Midnight City, M83', 'Radioactive, Imagine Dragons',\n",
       "        'Get Lucky - Radio Edit, Daft Punk',\n",
       "        'Little Talks, Of Monsters and Men', 'Wake Me Up, Avicii',\n",
       "        'Royals, Lorde', 'Ho Hey, The Lumineers',\n",
       "        \"Can't Hold Us - feat. Ray Dalton, Macklemore & Ryan Lewis\",\n",
       "        'Blurred Lines, Robin Thicke', 'Pompeii, Bastille'],\n",
       "       ['Midnight City, M83', 'Radioactive, Imagine Dragons',\n",
       "        'Get Lucky - Radio Edit, Daft Punk',\n",
       "        'Little Talks, Of Monsters and Men', 'Wake Me Up, Avicii',\n",
       "        'Royals, Lorde', 'Ho Hey, The Lumineers',\n",
       "        \"Can't Hold Us - feat. Ray Dalton, Macklemore & Ryan Lewis\",\n",
       "        'Blurred Lines, Robin Thicke', 'Pompeii, Bastille'],\n",
       "       ['Midnight City, M83', 'Radioactive, Imagine Dragons',\n",
       "        'Get Lucky - Radio Edit, Daft Punk',\n",
       "        'Little Talks, Of Monsters and Men', 'Wake Me Up, Avicii',\n",
       "        'Royals, Lorde', 'Ho Hey, The Lumineers',\n",
       "        \"Can't Hold Us - feat. Ray Dalton, Macklemore & Ryan Lewis\",\n",
       "        'Blurred Lines, Robin Thicke', 'Pompeii, Bastille'],\n",
       "       ['Midnight City, M83', 'Radioactive, Imagine Dragons',\n",
       "        'Get Lucky - Radio Edit, Daft Punk',\n",
       "        'Little Talks, Of Monsters and Men', 'Wake Me Up, Avicii',\n",
       "        'Royals, Lorde', 'Ho Hey, The Lumineers',\n",
       "        \"Can't Hold Us - feat. Ray Dalton, Macklemore & Ryan Lewis\",\n",
       "        'Blurred Lines, Robin Thicke', 'Pompeii, Bastille'],\n",
       "       ['Midnight City, M83', 'Radioactive, Imagine Dragons',\n",
       "        'Get Lucky - Radio Edit, Daft Punk',\n",
       "        'Little Talks, Of Monsters and Men', 'Wake Me Up, Avicii',\n",
       "        'Royals, Lorde', 'Ho Hey, The Lumineers',\n",
       "        \"Can't Hold Us - feat. Ray Dalton, Macklemore & Ryan Lewis\",\n",
       "        'Blurred Lines, Robin Thicke', 'Pompeii, Bastille'],\n",
       "       ['Midnight City, M83', 'Radioactive, Imagine Dragons',\n",
       "        'Get Lucky - Radio Edit, Daft Punk',\n",
       "        'Little Talks, Of Monsters and Men', 'Wake Me Up, Avicii',\n",
       "        'Royals, Lorde', 'Ho Hey, The Lumineers',\n",
       "        \"Can't Hold Us - feat. Ray Dalton, Macklemore & Ryan Lewis\",\n",
       "        'Blurred Lines, Robin Thicke', 'Pompeii, Bastille']], dtype=object)"
      ]
     },
     "execution_count": 99,
     "metadata": {},
     "output_type": "execute_result"
    }
   ],
   "source": [
    "n_val = len(val_group)\n",
    "recommendations = np.repeat([freq], n_val, axis=0)\n",
    "recommendations[:10]"
   ]
  },
  {
   "cell_type": "code",
   "execution_count": 100,
   "id": "7c161a6e",
   "metadata": {},
   "outputs": [
    {
     "data": {
      "text/plain": [
       "0.027083468448019267"
      ]
     },
     "execution_count": 100,
     "metadata": {},
     "output_type": "execute_result"
    }
   ],
   "source": [
    "# Finds out how often the top 10 tracks appear in validation dataset users\n",
    "average_precision = 0\n",
    "\n",
    "for i, user in enumerate(val_group):\n",
    "    count = 0\n",
    "    for track_artist in recommendations[i]:\n",
    "        if track_artist in user:\n",
    "            count = count + 1\n",
    "    precision = count / n_rec\n",
    "    average_precision = average_precision + precision\n",
    "\n",
    "average_precision = average_precision / n_val\n",
    "average_precision"
   ]
  },
  {
   "cell_type": "markdown",
   "id": "b760b3a5",
   "metadata": {},
   "source": [
    "This is our baseline. Now we can try to improve it using different methods."
   ]
  }
 ],
 "metadata": {
  "kernelspec": {
   "display_name": "Python 3 (ipykernel)",
   "language": "python",
   "name": "python3"
  },
  "language_info": {
   "codemirror_mode": {
    "name": "ipython",
    "version": 3
   },
   "file_extension": ".py",
   "mimetype": "text/x-python",
   "name": "python",
   "nbconvert_exporter": "python",
   "pygments_lexer": "ipython3",
   "version": "3.9.9"
  }
 },
 "nbformat": 4,
 "nbformat_minor": 5
}
