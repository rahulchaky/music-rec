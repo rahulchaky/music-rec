{
 "cells": [
  {
   "cell_type": "code",
   "execution_count": 52,
   "id": "6431d14c",
   "metadata": {},
   "outputs": [],
   "source": [
    "import pandas as pd\n",
    "import numpy as np"
   ]
  },
  {
   "cell_type": "markdown",
   "id": "bb19f8bf",
   "metadata": {},
   "source": [
    "## Data Preparation"
   ]
  },
  {
   "cell_type": "code",
   "execution_count": 53,
   "id": "089282a0",
   "metadata": {},
   "outputs": [],
   "source": [
    "df = pd.read_csv('../data/spotify_dataset.csv', on_bad_lines='skip')"
   ]
  },
  {
   "cell_type": "code",
   "execution_count": 54,
   "id": "5c97545b",
   "metadata": {},
   "outputs": [],
   "source": [
    "# Fixed Column Headers (removed quotes, whitespace, and simplified the column names)\n",
    "df.columns = df.columns.str.replace(\"\\\"\", \"\").str.strip().str.replace(\"name\",\"\")"
   ]
  },
  {
   "cell_type": "code",
   "execution_count": 55,
   "id": "ffa4673e",
   "metadata": {},
   "outputs": [],
   "source": [
    "df = df.dropna() # Removes rows with NULL values"
   ]
  },
  {
   "cell_type": "code",
   "execution_count": 56,
   "id": "90647995",
   "metadata": {},
   "outputs": [],
   "source": [
    "# Column that combines song and artist\n",
    "df['track_artist'] = df['track'] + ', ' + df['artist']"
   ]
  },
  {
   "cell_type": "code",
   "execution_count": 57,
   "id": "944ab04c",
   "metadata": {},
   "outputs": [],
   "source": [
    "n_tracks = df.track_artist.nunique()\n",
    "n_users = df.user_id.nunique()\n",
    "n_interactions = len(df)"
   ]
  },
  {
   "cell_type": "markdown",
   "id": "537988fd",
   "metadata": {},
   "source": [
    "## Data Validation"
   ]
  },
  {
   "cell_type": "code",
   "execution_count": 58,
   "id": "f0dd4965",
   "metadata": {},
   "outputs": [],
   "source": [
    "# Split into training and validation datasets randomly\n",
    "# Random sampling of users changes the baseline (.002...)\n",
    "from sklearn.model_selection import train_test_split\n",
    "\n",
    "df_train, df_val = train_test_split(df, test_size=0.2)"
   ]
  },
  {
   "cell_type": "code",
   "execution_count": 59,
   "id": "24e014f2",
   "metadata": {},
   "outputs": [],
   "source": [
    "# Frequency of most common songs\n",
    "n_rec = 10\n",
    "freq = df_train.track_artist.value_counts().iloc[:n_rec].index.values"
   ]
  },
  {
   "cell_type": "code",
   "execution_count": 60,
   "id": "2027c8b7",
   "metadata": {},
   "outputs": [],
   "source": [
    "# Grouping Songs by Playlist\n",
    "val_group = df_val.groupby('user_id').track_artist.apply(set)"
   ]
  },
  {
   "cell_type": "code",
   "execution_count": 61,
   "id": "f436d727",
   "metadata": {},
   "outputs": [],
   "source": [
    "n_val = len(val_group)\n",
    "recommendations = np.repeat([freq], n_val, axis=0)"
   ]
  },
  {
   "cell_type": "code",
   "execution_count": 62,
   "id": "0afb20f4",
   "metadata": {},
   "outputs": [],
   "source": [
    "# Finds out how often the top 10 tracks appear in validation dataset playlists\n",
    "def avg_prec(recommendations, val_group):\n",
    "    average_precision = 0\n",
    "\n",
    "    for i, playlist in enumerate(val_group):\n",
    "        count = 0\n",
    "        for track_artist in recommendations[i]:\n",
    "            if track_artist in playlist:\n",
    "                count = count + 1\n",
    "        precision = count / n_rec\n",
    "        average_precision = average_precision + precision\n",
    "\n",
    "    average_precision = average_precision / n_val\n",
    "    return average_precision"
   ]
  },
  {
   "cell_type": "code",
   "execution_count": 63,
   "id": "22a7fd76",
   "metadata": {},
   "outputs": [
    {
     "data": {
      "text/plain": [
       "0.02673762087092024"
      ]
     },
     "execution_count": 63,
     "metadata": {},
     "output_type": "execute_result"
    }
   ],
   "source": [
    "avg_prec(recommendations, val_group)"
   ]
  },
  {
   "cell_type": "markdown",
   "id": "72d2e29d",
   "metadata": {},
   "source": [
    "From the data validation performed, we know the baseline is approximately between .026 and .028."
   ]
  },
  {
   "cell_type": "markdown",
   "id": "dcd251a6",
   "metadata": {},
   "source": [
    "## Content-Based Recommendations"
   ]
  },
  {
   "cell_type": "code",
   "execution_count": 64,
   "id": "09f00f23",
   "metadata": {},
   "outputs": [
    {
     "data": {
      "text/plain": [
       "15341"
      ]
     },
     "execution_count": 64,
     "metadata": {},
     "output_type": "execute_result"
    }
   ],
   "source": [
    "# Find out overlapping users in both datasets\n",
    "# We only need to make recs for them (this number varies due to random sampling)\n",
    "target_users = set(df_val.user_id) & set(df_train.user_id)\n",
    "len(target_users)"
   ]
  },
  {
   "cell_type": "markdown",
   "id": "a7825383",
   "metadata": {},
   "source": [
    "The number of users that we should make recs for is a bit over 15000, as they exist in both the traning and validation datasets."
   ]
  },
  {
   "cell_type": "code",
   "execution_count": 65,
   "id": "5ddb9a07",
   "metadata": {},
   "outputs": [],
   "source": [
    "df_train_subset = df_train[df_train.user_id.isin(target_users)]"
   ]
  },
  {
   "cell_type": "markdown",
   "id": "e97a5797",
   "metadata": {},
   "source": [
    "Now we create vectorizors for turning users"
   ]
  },
  {
   "cell_type": "code",
   "execution_count": 66,
   "id": "55173277",
   "metadata": {},
   "outputs": [],
   "source": [
    "# Sklearn Imports\n",
    "from sklearn.pipeline import make_pipeline\n",
    "from sklearn.compose import ColumnTransformer\n",
    "\n",
    "from sklearn.base import TransformerMixin, BaseEstimator\n",
    "\n",
    "from sklearn.feature_extraction import DictVectorizer\n",
    "from sklearn.feature_extraction.text import TfidfVectorizer\n",
    "from sklearn.feature_extraction.text import CountVectorizer\n",
    "\n",
    "from sklearn.preprocessing import normalize"
   ]
  },
  {
   "cell_type": "code",
   "execution_count": null,
   "id": "4b5bc7f2",
   "metadata": {},
   "outputs": [],
   "source": [
    "class ToDictTranformer(TransformerMixin, BaseEstimator):\n",
    "    def __init__(self):\n",
    "        self.columns = None\n",
    "    \n",
    "    def fit(self, df, y=None):\n",
    "        self.columns = df.columns\n",
    "        return self\n",
    "\n",
    "    def transform(self, df):\n",
    "        return df.to_dict(orient='records')\n",
    "\n",
    "    def get_feature_names_out(self, *args, **kwargs):\n",
    "        return self.columns"
   ]
  }
 ],
 "metadata": {
  "kernelspec": {
   "display_name": "Python 3 (ipykernel)",
   "language": "python",
   "name": "python3"
  },
  "language_info": {
   "codemirror_mode": {
    "name": "ipython",
    "version": 3
   },
   "file_extension": ".py",
   "mimetype": "text/x-python",
   "name": "python",
   "nbconvert_exporter": "python",
   "pygments_lexer": "ipython3",
   "version": "3.9.9"
  }
 },
 "nbformat": 4,
 "nbformat_minor": 5
}
