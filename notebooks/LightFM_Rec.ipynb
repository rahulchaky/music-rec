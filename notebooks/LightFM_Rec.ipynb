{
 "cells": [
  {
   "cell_type": "markdown",
   "id": "3b95fca9",
   "metadata": {},
   "source": [
    "# LightFM Music Recommendation"
   ]
  },
  {
   "cell_type": "markdown",
   "id": "4dc189ad",
   "metadata": {},
   "source": [
    "## Data Preparation"
   ]
  },
  {
   "cell_type": "code",
   "execution_count": 2,
   "id": "9b5d14a2",
   "metadata": {},
   "outputs": [],
   "source": [
    "import pandas as pd\n",
    "import numpy as np"
   ]
  },
  {
   "cell_type": "code",
   "execution_count": 3,
   "id": "6c171a91",
   "metadata": {},
   "outputs": [],
   "source": [
    "df = pd.read_csv('../data/spotify_dataset.csv', on_bad_lines='skip')"
   ]
  },
  {
   "cell_type": "code",
   "execution_count": 4,
   "id": "47dcc6e3",
   "metadata": {},
   "outputs": [],
   "source": [
    "# Fixed Column Headers (removed quotes, whitespace, and simplified the column names)\n",
    "df.columns = df.columns.str.replace(\"\\\"\", \"\").str.strip().str.replace(\"name\",\"\")"
   ]
  },
  {
   "cell_type": "code",
   "execution_count": 5,
   "id": "68ca6d83",
   "metadata": {},
   "outputs": [],
   "source": [
    "df = df.dropna() # Removes rows with NULL values"
   ]
  },
  {
   "cell_type": "code",
   "execution_count": 6,
   "id": "63944f8c",
   "metadata": {},
   "outputs": [],
   "source": [
    "# Column that combines song and artist\n",
    "df['track_artist'] = df['track'] + ', ' + df['artist']"
   ]
  },
  {
   "cell_type": "code",
   "execution_count": 7,
   "id": "af039932",
   "metadata": {},
   "outputs": [
    {
     "data": {
      "text/html": [
       "<div>\n",
       "<style scoped>\n",
       "    .dataframe tbody tr th:only-of-type {\n",
       "        vertical-align: middle;\n",
       "    }\n",
       "\n",
       "    .dataframe tbody tr th {\n",
       "        vertical-align: top;\n",
       "    }\n",
       "\n",
       "    .dataframe thead th {\n",
       "        text-align: right;\n",
       "    }\n",
       "</style>\n",
       "<table border=\"1\" class=\"dataframe\">\n",
       "  <thead>\n",
       "    <tr style=\"text-align: right;\">\n",
       "      <th></th>\n",
       "      <th>user_id</th>\n",
       "      <th>artist</th>\n",
       "      <th>track</th>\n",
       "      <th>playlist</th>\n",
       "      <th>track_artist</th>\n",
       "    </tr>\n",
       "  </thead>\n",
       "  <tbody>\n",
       "    <tr>\n",
       "      <th>0</th>\n",
       "      <td>9cc0cfd4d7d7885102480dd99e7a90d6</td>\n",
       "      <td>Elvis Costello</td>\n",
       "      <td>(The Angels Wanna Wear My) Red Shoes</td>\n",
       "      <td>HARD ROCK 2010</td>\n",
       "      <td>(The Angels Wanna Wear My) Red Shoes, Elvis Co...</td>\n",
       "    </tr>\n",
       "    <tr>\n",
       "      <th>1</th>\n",
       "      <td>9cc0cfd4d7d7885102480dd99e7a90d6</td>\n",
       "      <td>Elvis Costello &amp; The Attractions</td>\n",
       "      <td>(What's So Funny 'Bout) Peace, Love And Unders...</td>\n",
       "      <td>HARD ROCK 2010</td>\n",
       "      <td>(What's So Funny 'Bout) Peace, Love And Unders...</td>\n",
       "    </tr>\n",
       "    <tr>\n",
       "      <th>2</th>\n",
       "      <td>9cc0cfd4d7d7885102480dd99e7a90d6</td>\n",
       "      <td>Tiffany Page</td>\n",
       "      <td>7 Years Too Late</td>\n",
       "      <td>HARD ROCK 2010</td>\n",
       "      <td>7 Years Too Late, Tiffany Page</td>\n",
       "    </tr>\n",
       "    <tr>\n",
       "      <th>3</th>\n",
       "      <td>9cc0cfd4d7d7885102480dd99e7a90d6</td>\n",
       "      <td>Elvis Costello &amp; The Attractions</td>\n",
       "      <td>Accidents Will Happen</td>\n",
       "      <td>HARD ROCK 2010</td>\n",
       "      <td>Accidents Will Happen, Elvis Costello &amp; The At...</td>\n",
       "    </tr>\n",
       "    <tr>\n",
       "      <th>4</th>\n",
       "      <td>9cc0cfd4d7d7885102480dd99e7a90d6</td>\n",
       "      <td>Elvis Costello</td>\n",
       "      <td>Alison</td>\n",
       "      <td>HARD ROCK 2010</td>\n",
       "      <td>Alison, Elvis Costello</td>\n",
       "    </tr>\n",
       "  </tbody>\n",
       "</table>\n",
       "</div>"
      ],
      "text/plain": [
       "                            user_id                            artist  \\\n",
       "0  9cc0cfd4d7d7885102480dd99e7a90d6                    Elvis Costello   \n",
       "1  9cc0cfd4d7d7885102480dd99e7a90d6  Elvis Costello & The Attractions   \n",
       "2  9cc0cfd4d7d7885102480dd99e7a90d6                      Tiffany Page   \n",
       "3  9cc0cfd4d7d7885102480dd99e7a90d6  Elvis Costello & The Attractions   \n",
       "4  9cc0cfd4d7d7885102480dd99e7a90d6                    Elvis Costello   \n",
       "\n",
       "                                               track        playlist  \\\n",
       "0               (The Angels Wanna Wear My) Red Shoes  HARD ROCK 2010   \n",
       "1  (What's So Funny 'Bout) Peace, Love And Unders...  HARD ROCK 2010   \n",
       "2                                   7 Years Too Late  HARD ROCK 2010   \n",
       "3                              Accidents Will Happen  HARD ROCK 2010   \n",
       "4                                             Alison  HARD ROCK 2010   \n",
       "\n",
       "                                        track_artist  \n",
       "0  (The Angels Wanna Wear My) Red Shoes, Elvis Co...  \n",
       "1  (What's So Funny 'Bout) Peace, Love And Unders...  \n",
       "2                     7 Years Too Late, Tiffany Page  \n",
       "3  Accidents Will Happen, Elvis Costello & The At...  \n",
       "4                             Alison, Elvis Costello  "
      ]
     },
     "execution_count": 7,
     "metadata": {},
     "output_type": "execute_result"
    }
   ],
   "source": [
    "df.head()"
   ]
  },
  {
   "cell_type": "code",
   "execution_count": null,
   "id": "427b67cf",
   "metadata": {},
   "outputs": [],
   "source": []
  }
 ],
 "metadata": {
  "kernelspec": {
   "display_name": "Python 3 (ipykernel)",
   "language": "python",
   "name": "python3"
  },
  "language_info": {
   "codemirror_mode": {
    "name": "ipython",
    "version": 3
   },
   "file_extension": ".py",
   "mimetype": "text/x-python",
   "name": "python",
   "nbconvert_exporter": "python",
   "pygments_lexer": "ipython3",
   "version": "3.9.9"
  }
 },
 "nbformat": 4,
 "nbformat_minor": 5
}
